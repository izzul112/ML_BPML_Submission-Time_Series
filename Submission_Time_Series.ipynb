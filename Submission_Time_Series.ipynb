{
  "nbformat": 4,
  "nbformat_minor": 0,
  "metadata": {
    "colab": {
      "name": "Submission-Time_Series.ipynb",
      "provenance": [],
      "authorship_tag": "ABX9TyP7M8VzECcZeObXNDEyfM5s",
      "include_colab_link": true
    },
    "kernelspec": {
      "name": "python3",
      "display_name": "Python 3"
    }
  },
  "cells": [
    {
      "cell_type": "markdown",
      "metadata": {
        "id": "view-in-github",
        "colab_type": "text"
      },
      "source": [
        "<a href=\"https://colab.research.google.com/github/izzul112/Submission-Time_Series/blob/master/Submission_Time_Series.ipynb\" target=\"_parent\"><img src=\"https://colab.research.google.com/assets/colab-badge.svg\" alt=\"Open In Colab\"/></a>"
      ]
    },
    {
      "cell_type": "code",
      "metadata": {
        "id": "ARObqKzsieNI",
        "colab_type": "code",
        "colab": {}
      },
      "source": [
        "import numpy as np\n",
        "import pandas as pd\n",
        "from keras.layers import Dense, LSTM\n",
        "import matplotlib.pyplot as plt\n",
        "import tensorflow as tf"
      ],
      "execution_count": 1,
      "outputs": []
    },
    {
      "cell_type": "code",
      "metadata": {
        "id": "6F9OAH1gnBtl",
        "colab_type": "code",
        "colab": {
          "base_uri": "https://localhost:8080/",
          "height": 204
        },
        "outputId": "69ba4d1d-3bec-4414-e32d-4d89920ebf34"
      },
      "source": [
        "data_train = pd.read_csv('daily-min-temperatures.csv')\n",
        "data_train.head()"
      ],
      "execution_count": 2,
      "outputs": [
        {
          "output_type": "execute_result",
          "data": {
            "text/html": [
              "<div>\n",
              "<style scoped>\n",
              "    .dataframe tbody tr th:only-of-type {\n",
              "        vertical-align: middle;\n",
              "    }\n",
              "\n",
              "    .dataframe tbody tr th {\n",
              "        vertical-align: top;\n",
              "    }\n",
              "\n",
              "    .dataframe thead th {\n",
              "        text-align: right;\n",
              "    }\n",
              "</style>\n",
              "<table border=\"1\" class=\"dataframe\">\n",
              "  <thead>\n",
              "    <tr style=\"text-align: right;\">\n",
              "      <th></th>\n",
              "      <th>Date</th>\n",
              "      <th>Temp</th>\n",
              "    </tr>\n",
              "  </thead>\n",
              "  <tbody>\n",
              "    <tr>\n",
              "      <th>0</th>\n",
              "      <td>1981-01-01</td>\n",
              "      <td>20.7</td>\n",
              "    </tr>\n",
              "    <tr>\n",
              "      <th>1</th>\n",
              "      <td>1981-01-02</td>\n",
              "      <td>17.9</td>\n",
              "    </tr>\n",
              "    <tr>\n",
              "      <th>2</th>\n",
              "      <td>1981-01-03</td>\n",
              "      <td>18.8</td>\n",
              "    </tr>\n",
              "    <tr>\n",
              "      <th>3</th>\n",
              "      <td>1981-01-04</td>\n",
              "      <td>14.6</td>\n",
              "    </tr>\n",
              "    <tr>\n",
              "      <th>4</th>\n",
              "      <td>1981-01-05</td>\n",
              "      <td>15.8</td>\n",
              "    </tr>\n",
              "  </tbody>\n",
              "</table>\n",
              "</div>"
            ],
            "text/plain": [
              "         Date  Temp\n",
              "0  1981-01-01  20.7\n",
              "1  1981-01-02  17.9\n",
              "2  1981-01-03  18.8\n",
              "3  1981-01-04  14.6\n",
              "4  1981-01-05  15.8"
            ]
          },
          "metadata": {
            "tags": []
          },
          "execution_count": 2
        }
      ]
    },
    {
      "cell_type": "code",
      "metadata": {
        "id": "ZNddVJbjnFsY",
        "colab_type": "code",
        "colab": {
          "base_uri": "https://localhost:8080/",
          "height": 68
        },
        "outputId": "1c7bc9f8-f49a-4eda-f8f8-acece02a9f95"
      },
      "source": [
        "data_train.isnull().sum()"
      ],
      "execution_count": 3,
      "outputs": [
        {
          "output_type": "execute_result",
          "data": {
            "text/plain": [
              "Date    0\n",
              "Temp    0\n",
              "dtype: int64"
            ]
          },
          "metadata": {
            "tags": []
          },
          "execution_count": 3
        }
      ]
    },
    {
      "cell_type": "code",
      "metadata": {
        "id": "m9YK5KhRnPZ9",
        "colab_type": "code",
        "colab": {
          "base_uri": "https://localhost:8080/",
          "height": 341
        },
        "outputId": "ccbb2b57-2e15-49cd-8e6f-1f90e5d28d95"
      },
      "source": [
        "dates = data_train['Date'].values\n",
        "temp  = data_train['Temp'].values\n",
        " \n",
        " \n",
        "plt.figure(figsize=(15,5))\n",
        "plt.plot(dates, temp)\n",
        "plt.title('Weather average',\n",
        "          fontsize=20);"
      ],
      "execution_count": 4,
      "outputs": [
        {
          "output_type": "display_data",
          "data": {
            "image/png": "[encoded data removed]",
            "text/plain": [
              "<Figure size 1080x360 with 1 Axes>"
            ]
          },
          "metadata": {
            "tags": [],
            "needs_background": "light"
          }
        }
      ]
    },
    {
      "cell_type": "code",
      "metadata": {
        "id": "2g3Qp_LCKcD_",
        "colab_type": "code",
        "colab": {}
      },
      "source": [
        "split_time = 2500\n",
        "time_train = dates[:split_time]\n",
        "x_train = temp[:split_time]\n",
        "time_valid = dates[split_time:]\n",
        "x_valid = temp[split_time:]\n",
        "\n",
        "window_size = 30\n",
        "batch_size = 32\n",
        "shuffle_buffer_size = 1000"
      ],
      "execution_count": 5,
      "outputs": []
    },
    {
      "cell_type": "code",
      "metadata": {
        "id": "y8WWoAoOnoxl",
        "colab_type": "code",
        "colab": {}
      },
      "source": [
        "def windowed_dataset(series, window_size, batch_size, shuffle_buffer):\n",
        "    series = tf.expand_dims(series, axis=-1)\n",
        "    ds = tf.data.Dataset.from_tensor_slices(series)\n",
        "    ds = ds.window(window_size + 1, shift=1, drop_remainder=True)\n",
        "    ds = ds.flat_map(lambda w: w.batch(window_size + 1))\n",
        "    ds = ds.shuffle(shuffle_buffer)\n",
        "    ds = ds.map(lambda w: (w[:-1], w[1:]))\n",
        "    return ds.batch(batch_size).prefetch(1)"
      ],
      "execution_count": 6,
      "outputs": []
    },
    {
      "cell_type": "code",
      "metadata": {
        "id": "dSgRXfpMUhJQ",
        "colab_type": "code",
        "colab": {}
      },
      "source": [
        "def model_forecast(model, temp, window_size):\n",
        "    ds = tf.data.Dataset.from_tensor_slices(temp)\n",
        "    ds = ds.window(window_size, shift=1, drop_remainder=True)\n",
        "    ds = ds.flat_map(lambda w: w.batch(window_size))\n",
        "    ds = ds.batch(32).prefetch(1)\n",
        "    forecast = model.predict(ds)\n",
        "    return forecast"
      ],
      "execution_count": 7,
      "outputs": []
    },
    {
      "cell_type": "code",
      "metadata": {
        "id": "9O8amSDJn0XK",
        "colab_type": "code",
        "colab": {}
      },
      "source": [
        "train_set = windowed_dataset(temp, window_size=64, batch_size=200, shuffle_buffer=1000)\n",
        "model = tf.keras.models.Sequential([\n",
        "  tf.keras.layers.LSTM(60, return_sequences=True),\n",
        "  tf.keras.layers.LSTM(60),\n",
        "  tf.keras.layers.Dense(30, activation=\"relu\"),\n",
        "  tf.keras.layers.Dense(10, activation=\"relu\"),\n",
        "  tf.keras.layers.Dense(1),\n",
        "])"
      ],
      "execution_count": 8,
      "outputs": []
    },
    {
      "cell_type": "code",
      "metadata": {
        "id": "fISjtEarn_Hn",
        "colab_type": "code",
        "colab": {
          "base_uri": "https://localhost:8080/",
          "height": 1000
        },
        "outputId": "f80b85ef-6893-44b4-84eb-9ecd8974fe86"
      },
      "source": [
        "optimizer = tf.keras.optimizers.SGD(lr=1.0000e-04, momentum=0.9)\n",
        "model.compile(loss=tf.keras.losses.Huber(),\n",
        "              optimizer=optimizer,\n",
        "              metrics=[\"mae\"])\n",
        "history = model.fit(train_set,epochs=100)"
      ],
      "execution_count": 9,
      "outputs": [
        {
          "output_type": "stream",
          "text": [
            "Epoch 1/100\n",
            "WARNING:tensorflow:Layer lstm is casting an input tensor from dtype float64 to the layer's dtype of float32, which is new behavior in TensorFlow 2.  The layer has dtype float32 because its dtype defaults to floatx.\n",
            "\n",
            "If you intended to run this layer in float32, you can safely ignore this warning. If in doubt, this warning is likely only an issue if you are porting a TensorFlow 1.X model to TensorFlow 2.\n",
            "\n",
            "To change all layers to have dtype float64 by default, call `tf.keras.backend.set_floatx('float64')`. To change just this layer, pass dtype='float64' to the layer constructor. If you are the author of this layer, you can disable autocasting by passing autocast=False to the base Layer constructor.\n",
            "\n",
            "18/18 [==============================] - 3s 185ms/step - loss: 10.6047 - mae: 11.1040\n",
            "Epoch 2/100\n",
            "18/18 [==============================] - 3s 182ms/step - loss: 10.5046 - mae: 11.0038\n",
            "Epoch 3/100\n",
            "18/18 [==============================] - 3s 180ms/step - loss: 10.4020 - mae: 10.9011\n",
            "Epoch 4/100\n",
            "18/18 [==============================] - 3s 181ms/step - loss: 10.2938 - mae: 10.7928\n",
            "Epoch 5/100\n",
            "18/18 [==============================] - 3s 182ms/step - loss: 10.1778 - mae: 10.6768\n",
            "Epoch 6/100\n",
            "18/18 [==============================] - 3s 182ms/step - loss: 10.0471 - mae: 10.5460\n",
            "Epoch 7/100\n",
            "18/18 [==============================] - 3s 184ms/step - loss: 9.8937 - mae: 10.3925\n",
            "Epoch 8/100\n",
            "18/18 [==============================] - 3s 185ms/step - loss: 9.7196 - mae: 10.2183\n",
            "Epoch 9/100\n",
            "18/18 [==============================] - 3s 186ms/step - loss: 9.5195 - mae: 10.0182\n",
            "Epoch 10/100\n",
            "18/18 [==============================] - 3s 184ms/step - loss: 9.2850 - mae: 9.7836\n",
            "Epoch 11/100\n",
            "18/18 [==============================] - 3s 185ms/step - loss: 9.0089 - mae: 9.5072\n",
            "Epoch 12/100\n",
            "18/18 [==============================] - 3s 186ms/step - loss: 8.6831 - mae: 9.1812\n",
            "Epoch 13/100\n",
            "18/18 [==============================] - 3s 183ms/step - loss: 8.2956 - mae: 8.7930\n",
            "Epoch 14/100\n",
            "18/18 [==============================] - 3s 183ms/step - loss: 7.8301 - mae: 8.3265\n",
            "Epoch 15/100\n",
            "18/18 [==============================] - 3s 182ms/step - loss: 7.2639 - mae: 7.7599\n",
            "Epoch 16/100\n",
            "18/18 [==============================] - 3s 185ms/step - loss: 6.5758 - mae: 7.0693\n",
            "Epoch 17/100\n",
            "18/18 [==============================] - 3s 183ms/step - loss: 5.7525 - mae: 6.2410\n",
            "Epoch 18/100\n",
            "18/18 [==============================] - 3s 184ms/step - loss: 4.8154 - mae: 5.2991\n",
            "Epoch 19/100\n",
            "18/18 [==============================] - 3s 182ms/step - loss: 3.8836 - mae: 4.3595\n",
            "Epoch 20/100\n",
            "18/18 [==============================] - 3s 190ms/step - loss: 3.1582 - mae: 3.6288\n",
            "Epoch 21/100\n",
            "18/18 [==============================] - 3s 184ms/step - loss: 2.7866 - mae: 3.2536\n",
            "Epoch 22/100\n",
            "18/18 [==============================] - 3s 185ms/step - loss: 2.6687 - mae: 3.1344\n",
            "Epoch 23/100\n",
            "18/18 [==============================] - 3s 184ms/step - loss: 2.6456 - mae: 3.1127\n",
            "Epoch 24/100\n",
            "18/18 [==============================] - 3s 182ms/step - loss: 2.6376 - mae: 3.1049\n",
            "Epoch 25/100\n",
            "18/18 [==============================] - 3s 186ms/step - loss: 2.6292 - mae: 3.0965\n",
            "Epoch 26/100\n",
            "18/18 [==============================] - 3s 182ms/step - loss: 2.6196 - mae: 3.0867\n",
            "Epoch 27/100\n",
            "18/18 [==============================] - 3s 185ms/step - loss: 2.6078 - mae: 3.0747\n",
            "Epoch 28/100\n",
            "18/18 [==============================] - 3s 187ms/step - loss: 2.5921 - mae: 3.0586\n",
            "Epoch 29/100\n",
            "18/18 [==============================] - 3s 187ms/step - loss: 2.5620 - mae: 3.0278\n",
            "Epoch 30/100\n",
            "18/18 [==============================] - 3s 188ms/step - loss: 2.4330 - mae: 2.8951\n",
            "Epoch 31/100\n",
            "18/18 [==============================] - 3s 184ms/step - loss: 2.3059 - mae: 2.7651\n",
            "Epoch 32/100\n",
            "18/18 [==============================] - 3s 186ms/step - loss: 2.1724 - mae: 2.6291\n",
            "Epoch 33/100\n",
            "18/18 [==============================] - 3s 181ms/step - loss: 2.0425 - mae: 2.4973\n",
            "Epoch 34/100\n",
            "18/18 [==============================] - 3s 182ms/step - loss: 1.9539 - mae: 2.4079\n",
            "Epoch 35/100\n",
            "18/18 [==============================] - 3s 183ms/step - loss: 1.9006 - mae: 2.3534\n",
            "Epoch 36/100\n",
            "18/18 [==============================] - 3s 184ms/step - loss: 1.8681 - mae: 2.3204\n",
            "Epoch 37/100\n",
            "18/18 [==============================] - 3s 182ms/step - loss: 1.8433 - mae: 2.2952\n",
            "Epoch 38/100\n",
            "18/18 [==============================] - 3s 183ms/step - loss: 1.8194 - mae: 2.2701\n",
            "Epoch 39/100\n",
            "18/18 [==============================] - 3s 184ms/step - loss: 1.8074 - mae: 2.2579\n",
            "Epoch 40/100\n",
            "18/18 [==============================] - 3s 184ms/step - loss: 1.8025 - mae: 2.2527\n",
            "Epoch 41/100\n",
            "18/18 [==============================] - 3s 186ms/step - loss: 1.8001 - mae: 2.2504\n",
            "Epoch 42/100\n",
            "18/18 [==============================] - 3s 185ms/step - loss: 1.7930 - mae: 2.2428\n",
            "Epoch 43/100\n",
            "18/18 [==============================] - 3s 188ms/step - loss: 1.8012 - mae: 2.2514\n",
            "Epoch 44/100\n",
            "18/18 [==============================] - 3s 188ms/step - loss: 1.8009 - mae: 2.2514\n",
            "Epoch 45/100\n",
            "18/18 [==============================] - 3s 183ms/step - loss: 1.7886 - mae: 2.2382\n",
            "Epoch 46/100\n",
            "18/18 [==============================] - 3s 186ms/step - loss: 1.7845 - mae: 2.2336\n",
            "Epoch 47/100\n",
            "18/18 [==============================] - 3s 186ms/step - loss: 1.7814 - mae: 2.2303\n",
            "Epoch 48/100\n",
            "18/18 [==============================] - 3s 182ms/step - loss: 1.7822 - mae: 2.2313\n",
            "Epoch 49/100\n",
            "18/18 [==============================] - 3s 186ms/step - loss: 1.7784 - mae: 2.2272\n",
            "Epoch 50/100\n",
            "18/18 [==============================] - 3s 189ms/step - loss: 1.7780 - mae: 2.2268\n",
            "Epoch 51/100\n",
            "18/18 [==============================] - 3s 188ms/step - loss: 1.7810 - mae: 2.2302\n",
            "Epoch 52/100\n",
            "18/18 [==============================] - 3s 186ms/step - loss: 1.7749 - mae: 2.2236\n",
            "Epoch 53/100\n",
            "18/18 [==============================] - 3s 188ms/step - loss: 1.7788 - mae: 2.2278\n",
            "Epoch 54/100\n",
            "18/18 [==============================] - 3s 184ms/step - loss: 1.7734 - mae: 2.2220\n",
            "Epoch 55/100\n",
            "18/18 [==============================] - 3s 187ms/step - loss: 1.7731 - mae: 2.2216\n",
            "Epoch 56/100\n",
            "18/18 [==============================] - 3s 187ms/step - loss: 1.7772 - mae: 2.2262\n",
            "Epoch 57/100\n",
            "18/18 [==============================] - 3s 183ms/step - loss: 1.7715 - mae: 2.2200\n",
            "Epoch 58/100\n",
            "18/18 [==============================] - 3s 185ms/step - loss: 1.7733 - mae: 2.2222\n",
            "Epoch 59/100\n",
            "18/18 [==============================] - 3s 183ms/step - loss: 1.7700 - mae: 2.2185\n",
            "Epoch 60/100\n",
            "18/18 [==============================] - 3s 187ms/step - loss: 1.7771 - mae: 2.2263\n",
            "Epoch 61/100\n",
            "18/18 [==============================] - 3s 185ms/step - loss: 1.7710 - mae: 2.2195\n",
            "Epoch 62/100\n",
            "18/18 [==============================] - 3s 187ms/step - loss: 1.7774 - mae: 2.2267\n",
            "Epoch 63/100\n",
            "18/18 [==============================] - 3s 183ms/step - loss: 1.7699 - mae: 2.2185\n",
            "Epoch 64/100\n",
            "18/18 [==============================] - 3s 184ms/step - loss: 1.7677 - mae: 2.2161\n",
            "Epoch 65/100\n",
            "18/18 [==============================] - 3s 183ms/step - loss: 1.7682 - mae: 2.2170\n",
            "Epoch 66/100\n",
            "18/18 [==============================] - 3s 185ms/step - loss: 1.7673 - mae: 2.2158\n",
            "Epoch 67/100\n",
            "18/18 [==============================] - 3s 186ms/step - loss: 1.7665 - mae: 2.2150\n",
            "Epoch 68/100\n",
            "18/18 [==============================] - 3s 188ms/step - loss: 1.7673 - mae: 2.2160\n",
            "Epoch 69/100\n",
            "18/18 [==============================] - 3s 185ms/step - loss: 1.7660 - mae: 2.2146\n",
            "Epoch 70/100\n",
            "18/18 [==============================] - 3s 185ms/step - loss: 1.7683 - mae: 2.2174\n",
            "Epoch 71/100\n",
            "18/18 [==============================] - 3s 183ms/step - loss: 1.7689 - mae: 2.2179\n",
            "Epoch 72/100\n",
            "18/18 [==============================] - 3s 182ms/step - loss: 1.7711 - mae: 2.2202\n",
            "Epoch 73/100\n",
            "18/18 [==============================] - 3s 183ms/step - loss: 1.7676 - mae: 2.2164\n",
            "Epoch 74/100\n",
            "18/18 [==============================] - 3s 184ms/step - loss: 1.7674 - mae: 2.2162\n",
            "Epoch 75/100\n",
            "18/18 [==============================] - 3s 184ms/step - loss: 1.7651 - mae: 2.2138\n",
            "Epoch 76/100\n",
            "18/18 [==============================] - 3s 185ms/step - loss: 1.7636 - mae: 2.2122\n",
            "Epoch 77/100\n",
            "18/18 [==============================] - 3s 182ms/step - loss: 1.7649 - mae: 2.2137\n",
            "Epoch 78/100\n",
            "18/18 [==============================] - 3s 183ms/step - loss: 1.7635 - mae: 2.2121\n",
            "Epoch 79/100\n",
            "18/18 [==============================] - 3s 185ms/step - loss: 1.7621 - mae: 2.2105\n",
            "Epoch 80/100\n",
            "18/18 [==============================] - 3s 186ms/step - loss: 1.7621 - mae: 2.2106\n",
            "Epoch 81/100\n",
            "18/18 [==============================] - 3s 189ms/step - loss: 1.7666 - mae: 2.2156\n",
            "Epoch 82/100\n",
            "18/18 [==============================] - 3s 184ms/step - loss: 1.7654 - mae: 2.2142\n",
            "Epoch 83/100\n",
            "18/18 [==============================] - 3s 183ms/step - loss: 1.7666 - mae: 2.2157\n",
            "Epoch 84/100\n",
            "18/18 [==============================] - 3s 183ms/step - loss: 1.7658 - mae: 2.2148\n",
            "Epoch 85/100\n",
            "18/18 [==============================] - 3s 185ms/step - loss: 1.7677 - mae: 2.2170\n",
            "Epoch 86/100\n",
            "18/18 [==============================] - 3s 180ms/step - loss: 1.7650 - mae: 2.2139\n",
            "Epoch 87/100\n",
            "18/18 [==============================] - 3s 184ms/step - loss: 1.7695 - mae: 2.2186\n",
            "Epoch 88/100\n",
            "18/18 [==============================] - 3s 182ms/step - loss: 1.7616 - mae: 2.2102\n",
            "Epoch 89/100\n",
            "18/18 [==============================] - 3s 185ms/step - loss: 1.7618 - mae: 2.2104\n",
            "Epoch 90/100\n",
            "18/18 [==============================] - 3s 182ms/step - loss: 1.7637 - mae: 2.2124\n",
            "Epoch 91/100\n",
            "18/18 [==============================] - 3s 183ms/step - loss: 1.7625 - mae: 2.2114\n",
            "Epoch 92/100\n",
            "18/18 [==============================] - 3s 188ms/step - loss: 1.7623 - mae: 2.2112\n",
            "Epoch 93/100\n",
            "18/18 [==============================] - 3s 190ms/step - loss: 1.7623 - mae: 2.2111\n",
            "Epoch 94/100\n",
            "18/18 [==============================] - 3s 182ms/step - loss: 1.7626 - mae: 2.2115\n",
            "Epoch 95/100\n",
            "18/18 [==============================] - 3s 183ms/step - loss: 1.7619 - mae: 2.2107\n",
            "Epoch 96/100\n",
            "18/18 [==============================] - 3s 181ms/step - loss: 1.7626 - mae: 2.2114\n",
            "Epoch 97/100\n",
            "18/18 [==============================] - 3s 186ms/step - loss: 1.7604 - mae: 2.2090\n",
            "Epoch 98/100\n",
            "18/18 [==============================] - 3s 185ms/step - loss: 1.7610 - mae: 2.2097\n",
            "Epoch 99/100\n",
            "18/18 [==============================] - 3s 184ms/step - loss: 1.7622 - mae: 2.2111\n",
            "Epoch 100/100\n",
            "18/18 [==============================] - 3s 182ms/step - loss: 1.7598 - mae: 2.2084\n"
          ],
          "name": "stdout"
        }
      ]
    },
    {
      "cell_type": "code",
      "metadata": {
        "id": "JG5Xqq2GcYyq",
        "colab_type": "code",
        "colab": {
          "base_uri": "https://localhost:8080/",
          "height": 181
        },
        "outputId": "8e016bfd-cc2d-4f4a-df6d-9a57aff99f7a"
      },
      "source": [
        "rnn_forecast = model_forecast(model, temp[..., np.newaxis], window_size)\n",
        "rnn_forecast = rnn_forecast[split_time - window_size:-1, -1, 0]"
      ],
      "execution_count": 11,
      "outputs": [
        {
          "output_type": "error",
          "ename": "IndexError",
          "evalue": "ignored",
          "traceback": [
            "\u001b[0;31m---------------------------------------------------------------------------\u001b[0m",
            "\u001b[0;31mIndexError\u001b[0m                                Traceback (most recent call last)",
            "\u001b[0;32m<ipython-input-11-dccb5081c3a3>\u001b[0m in \u001b[0;36m<module>\u001b[0;34m()\u001b[0m\n\u001b[1;32m      1\u001b[0m \u001b[0mrnn_forecast\u001b[0m \u001b[0;34m=\u001b[0m \u001b[0mmodel_forecast\u001b[0m\u001b[0;34m(\u001b[0m\u001b[0mmodel\u001b[0m\u001b[0;34m,\u001b[0m \u001b[0mtemp\u001b[0m\u001b[0;34m[\u001b[0m\u001b[0;34m...\u001b[0m\u001b[0;34m,\u001b[0m \u001b[0mnp\u001b[0m\u001b[0;34m.\u001b[0m\u001b[0mnewaxis\u001b[0m\u001b[0;34m]\u001b[0m\u001b[0;34m,\u001b[0m \u001b[0mwindow_size\u001b[0m\u001b[0;34m)\u001b[0m\u001b[0;34m\u001b[0m\u001b[0;34m\u001b[0m\u001b[0m\n\u001b[0;32m----> 2\u001b[0;31m \u001b[0mrnn_forecast\u001b[0m \u001b[0;34m=\u001b[0m \u001b[0mrnn_forecast\u001b[0m\u001b[0;34m[\u001b[0m\u001b[0msplit_time\u001b[0m \u001b[0;34m-\u001b[0m \u001b[0mwindow_size\u001b[0m\u001b[0;34m:\u001b[0m\u001b[0;34m-\u001b[0m\u001b[0;36m1\u001b[0m\u001b[0;34m,\u001b[0m \u001b[0;34m-\u001b[0m\u001b[0;36m1\u001b[0m\u001b[0;34m,\u001b[0m \u001b[0;36m0\u001b[0m\u001b[0;34m]\u001b[0m\u001b[0;34m\u001b[0m\u001b[0;34m\u001b[0m\u001b[0m\n\u001b[0m",
            "\u001b[0;31mIndexError\u001b[0m: too many indices for array"
          ]
        }
      ]
    },
    {
      "cell_type": "code",
      "metadata": {
        "id": "WL1CNxYZNGpe",
        "colab_type": "code",
        "colab": {}
      },
      "source": [
        "plt.figure(figsize=(15, 5))\n",
        "plot_temp(time_valid, x_valid)\n",
        "plot_temp(time_valid, rnn_forecast)"
      ],
      "execution_count": null,
      "outputs": []
    }
  ]
}