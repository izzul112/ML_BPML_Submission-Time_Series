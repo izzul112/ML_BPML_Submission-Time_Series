{
  "nbformat": 4,
  "nbformat_minor": 0,
  "metadata": {
    "colab": {
      "name": "Submission-Time_Series.ipynb",
      "provenance": [],
      "authorship_tag": "ABX9TyMsA4tj4UdbbabzclwjFrbt",
      "include_colab_link": true
    },
    "kernelspec": {
      "name": "python3",
      "display_name": "Python 3"
    }
  },
  "cells": [
    {
      "cell_type": "markdown",
      "metadata": {
        "id": "view-in-github",
        "colab_type": "text"
      },
      "source": [
        "<a href=\"https://colab.research.google.com/github/izzul112/Submission-Time_Series/blob/master/Submission_Time_Series.ipynb\" target=\"_parent\"><img src=\"https://colab.research.google.com/assets/colab-badge.svg\" alt=\"Open In Colab\"/></a>"
      ]
    },
    {
      "cell_type": "code",
      "metadata": {
        "id": "ARObqKzsieNI",
        "colab_type": "code",
        "colab": {}
      },
      "source": [
        "import numpy as np\n",
        "import pandas as pd\n",
        "from keras.layers import Dense, LSTM\n",
        "import matplotlib.pyplot as plt\n",
        "import tensorflow as tf"
      ],
      "execution_count": 1,
      "outputs": []
    },
    {
      "cell_type": "code",
      "metadata": {
        "id": "6F9OAH1gnBtl",
        "colab_type": "code",
        "colab": {
          "base_uri": "https://localhost:8080/",
          "height": 204
        },
        "outputId": "17596832-fadc-47a6-e6f7-e05d0a155576"
      },
      "source": [
        "data_train = pd.read_csv('monthly-sunspots.csv')\n",
        "data_train.head()"
      ],
      "execution_count": 2,
      "outputs": [
        {
          "output_type": "execute_result",
          "data": {
            "text/html": [
              "<div>\n",
              "<style scoped>\n",
              "    .dataframe tbody tr th:only-of-type {\n",
              "        vertical-align: middle;\n",
              "    }\n",
              "\n",
              "    .dataframe tbody tr th {\n",
              "        vertical-align: top;\n",
              "    }\n",
              "\n",
              "    .dataframe thead th {\n",
              "        text-align: right;\n",
              "    }\n",
              "</style>\n",
              "<table border=\"1\" class=\"dataframe\">\n",
              "  <thead>\n",
              "    <tr style=\"text-align: right;\">\n",
              "      <th></th>\n",
              "      <th>Month</th>\n",
              "      <th>Sunspots</th>\n",
              "    </tr>\n",
              "  </thead>\n",
              "  <tbody>\n",
              "    <tr>\n",
              "      <th>0</th>\n",
              "      <td>1749-01</td>\n",
              "      <td>58.0</td>\n",
              "    </tr>\n",
              "    <tr>\n",
              "      <th>1</th>\n",
              "      <td>1749-02</td>\n",
              "      <td>62.6</td>\n",
              "    </tr>\n",
              "    <tr>\n",
              "      <th>2</th>\n",
              "      <td>1749-03</td>\n",
              "      <td>70.0</td>\n",
              "    </tr>\n",
              "    <tr>\n",
              "      <th>3</th>\n",
              "      <td>1749-04</td>\n",
              "      <td>55.7</td>\n",
              "    </tr>\n",
              "    <tr>\n",
              "      <th>4</th>\n",
              "      <td>1749-05</td>\n",
              "      <td>85.0</td>\n",
              "    </tr>\n",
              "  </tbody>\n",
              "</table>\n",
              "</div>"
            ],
            "text/plain": [
              "     Month  Sunspots\n",
              "0  1749-01      58.0\n",
              "1  1749-02      62.6\n",
              "2  1749-03      70.0\n",
              "3  1749-04      55.7\n",
              "4  1749-05      85.0"
            ]
          },
          "metadata": {
            "tags": []
          },
          "execution_count": 2
        }
      ]
    },
    {
      "cell_type": "code",
      "metadata": {
        "id": "ZNddVJbjnFsY",
        "colab_type": "code",
        "colab": {
          "base_uri": "https://localhost:8080/",
          "height": 68
        },
        "outputId": "1062b19e-e0b2-4b08-813b-3132c79259bc"
      },
      "source": [
        "data_train.isnull().sum()"
      ],
      "execution_count": 3,
      "outputs": [
        {
          "output_type": "execute_result",
          "data": {
            "text/plain": [
              "Month       0\n",
              "Sunspots    0\n",
              "dtype: int64"
            ]
          },
          "metadata": {
            "tags": []
          },
          "execution_count": 3
        }
      ]
    },
    {
      "cell_type": "code",
      "metadata": {
        "id": "m9YK5KhRnPZ9",
        "colab_type": "code",
        "colab": {
          "base_uri": "https://localhost:8080/",
          "height": 341
        },
        "outputId": "13eb21cc-03c5-4948-afdb-b4802bab2025"
      },
      "source": [
        "dates = data_train['Month'].values\n",
        "temp  = data_train['Sunspots'].values\n",
        " \n",
        " \n",
        "plt.figure(figsize=(15,5))\n",
        "plt.plot(dates, temp)\n",
        "plt.title('Sun average',\n",
        "          fontsize=20);"
      ],
      "execution_count": 4,
      "outputs": [
        {
          "output_type": "display_data",
          "data": {
            "image/png": "[encoded data removed]",
            "text/plain": [
              "<Figure size 1080x360 with 1 Axes>"
            ]
          },
          "metadata": {
            "tags": [],
            "needs_background": "light"
          }
        }
      ]
    },
    {
      "cell_type": "code",
      "metadata": {
        "id": "y8WWoAoOnoxl",
        "colab_type": "code",
        "colab": {}
      },
      "source": [
        "def windowed_dataset(series, window_size, batch_size, shuffle_buffer):\n",
        "    series = tf.expand_dims(series, axis=-1)\n",
        "    ds = tf.data.Dataset.from_tensor_slices(series)\n",
        "    ds = ds.window(window_size + 1, shift=1, drop_remainder=True)\n",
        "    ds = ds.flat_map(lambda w: w.batch(window_size + 1))\n",
        "    ds = ds.shuffle(shuffle_buffer)\n",
        "    ds = ds.map(lambda w: (w[:-1], w[1:]))\n",
        "    return ds.batch(batch_size).prefetch(1)"
      ],
      "execution_count": 5,
      "outputs": []
    },
    {
      "cell_type": "code",
      "metadata": {
        "id": "9O8amSDJn0XK",
        "colab_type": "code",
        "colab": {}
      },
      "source": [
        "train_set = windowed_dataset(temp, window_size=60, batch_size=100, shuffle_buffer=1000)\n",
        "# val_set = windowed_dataset(temp, window_size=60, batch_size=100, shuffle_buffer=1000)\n",
        "model = tf.keras.models.Sequential([\n",
        "  tf.keras.layers.LSTM(60, return_sequences=True),\n",
        "  tf.keras.layers.LSTM(60),\n",
        "  tf.keras.layers.Dense(30, activation=\"relu\"),\n",
        "  tf.keras.layers.Dense(10, activation=\"relu\"),\n",
        "  tf.keras.layers.Dense(1),\n",
        "])"
      ],
      "execution_count": 6,
      "outputs": []
    },
    {
      "cell_type": "code",
      "metadata": {
        "id": "fISjtEarn_Hn",
        "colab_type": "code",
        "colab": {
          "base_uri": "https://localhost:8080/",
          "height": 1000
        },
        "outputId": "c1d574a6-3881-4cbb-9b0c-87539fa772c5"
      },
      "source": [
        "optimizer = tf.keras.optimizers.SGD(lr=1.0000e-04, momentum=0.9)\n",
        "model.compile(loss=tf.keras.losses.Huber(),\n",
        "              optimizer=optimizer,\n",
        "              metrics=[\"mae\"])\n",
        "history = model.fit(train_set,epochs=100)"
      ],
      "execution_count": 7,
      "outputs": [
        {
          "output_type": "stream",
          "text": [
            "Epoch 1/100\n",
            "WARNING:tensorflow:Layer lstm is casting an input tensor from dtype float64 to the layer's dtype of float32, which is new behavior in TensorFlow 2.  The layer has dtype float32 because its dtype defaults to floatx.\n",
            "\n",
            "If you intended to run this layer in float32, you can safely ignore this warning. If in doubt, this warning is likely only an issue if you are porting a TensorFlow 1.X model to TensorFlow 2.\n",
            "\n",
            "To change all layers to have dtype float64 by default, call `tf.keras.backend.set_floatx('float64')`. To change just this layer, pass dtype='float64' to the layer constructor. If you are the author of this layer, you can disable autocasting by passing autocast=False to the base Layer constructor.\n",
            "\n",
            "28/28 [==============================] - 3s 99ms/step - loss: 50.0157 - mae: 50.5022\n",
            "Epoch 2/100\n",
            "28/28 [==============================] - 3s 98ms/step - loss: 49.9172 - mae: 50.4027\n",
            "Epoch 3/100\n",
            "28/28 [==============================] - 3s 104ms/step - loss: 49.8336 - mae: 50.3200\n",
            "Epoch 4/100\n",
            "28/28 [==============================] - 3s 103ms/step - loss: 49.7574 - mae: 50.2445\n",
            "Epoch 5/100\n",
            "28/28 [==============================] - 3s 97ms/step - loss: 49.6620 - mae: 50.1500\n",
            "Epoch 6/100\n",
            "28/28 [==============================] - 3s 99ms/step - loss: 49.5451 - mae: 50.0341\n",
            "Epoch 7/100\n",
            "28/28 [==============================] - 3s 97ms/step - loss: 49.3940 - mae: 49.8844\n",
            "Epoch 8/100\n",
            "28/28 [==============================] - 3s 97ms/step - loss: 49.1915 - mae: 49.6837\n",
            "Epoch 9/100\n",
            "28/28 [==============================] - 3s 97ms/step - loss: 48.9453 - mae: 49.4391\n",
            "Epoch 10/100\n",
            "28/28 [==============================] - 3s 97ms/step - loss: 48.5533 - mae: 49.0482\n",
            "Epoch 11/100\n",
            "28/28 [==============================] - 3s 99ms/step - loss: 47.9668 - mae: 48.4622\n",
            "Epoch 12/100\n",
            "28/28 [==============================] - 3s 96ms/step - loss: 47.2837 - mae: 47.7786\n",
            "Epoch 13/100\n",
            "28/28 [==============================] - 3s 99ms/step - loss: 46.4240 - mae: 46.9188\n",
            "Epoch 14/100\n",
            "28/28 [==============================] - 3s 98ms/step - loss: 45.2673 - mae: 45.7618\n",
            "Epoch 15/100\n",
            "28/28 [==============================] - 3s 97ms/step - loss: 43.7009 - mae: 44.1952\n",
            "Epoch 16/100\n",
            "28/28 [==============================] - 3s 102ms/step - loss: 41.7005 - mae: 42.1953\n",
            "Epoch 17/100\n",
            "28/28 [==============================] - 3s 97ms/step - loss: 39.3517 - mae: 39.8474\n",
            "Epoch 18/100\n",
            "28/28 [==============================] - 3s 97ms/step - loss: 36.7971 - mae: 37.2940\n",
            "Epoch 19/100\n",
            "28/28 [==============================] - 3s 99ms/step - loss: 34.4276 - mae: 34.9244\n",
            "Epoch 20/100\n",
            "28/28 [==============================] - 3s 98ms/step - loss: 32.7473 - mae: 33.2439\n",
            "Epoch 21/100\n",
            "28/28 [==============================] - 3s 100ms/step - loss: 31.6689 - mae: 32.1656\n",
            "Epoch 22/100\n",
            "28/28 [==============================] - 3s 100ms/step - loss: 30.9074 - mae: 31.4037\n",
            "Epoch 23/100\n",
            "28/28 [==============================] - 3s 99ms/step - loss: 30.3275 - mae: 30.8238\n",
            "Epoch 24/100\n",
            "28/28 [==============================] - 3s 98ms/step - loss: 28.1818 - mae: 28.6773\n",
            "Epoch 25/100\n",
            "28/28 [==============================] - 3s 97ms/step - loss: 26.3439 - mae: 26.8392\n",
            "Epoch 26/100\n",
            "28/28 [==============================] - 3s 100ms/step - loss: 25.3802 - mae: 25.8749\n",
            "Epoch 27/100\n",
            "28/28 [==============================] - 3s 98ms/step - loss: 24.7685 - mae: 25.2631\n",
            "Epoch 28/100\n",
            "28/28 [==============================] - 3s 100ms/step - loss: 24.1007 - mae: 24.5952\n",
            "Epoch 29/100\n",
            "28/28 [==============================] - 3s 99ms/step - loss: 23.6389 - mae: 24.1332\n",
            "Epoch 30/100\n",
            "28/28 [==============================] - 3s 98ms/step - loss: 23.3741 - mae: 23.8685\n",
            "Epoch 31/100\n",
            "28/28 [==============================] - 3s 99ms/step - loss: 23.1638 - mae: 23.6584\n",
            "Epoch 32/100\n",
            "28/28 [==============================] - 3s 99ms/step - loss: 23.0386 - mae: 23.5330\n",
            "Epoch 33/100\n",
            "28/28 [==============================] - 3s 99ms/step - loss: 22.9577 - mae: 23.4521\n",
            "Epoch 34/100\n",
            "28/28 [==============================] - 3s 98ms/step - loss: 22.8603 - mae: 23.3547\n",
            "Epoch 35/100\n",
            "28/28 [==============================] - 3s 97ms/step - loss: 22.8029 - mae: 23.2973\n",
            "Epoch 36/100\n",
            "28/28 [==============================] - 3s 100ms/step - loss: 22.7345 - mae: 23.2289\n",
            "Epoch 37/100\n",
            "28/28 [==============================] - 3s 98ms/step - loss: 22.6972 - mae: 23.1917\n",
            "Epoch 38/100\n",
            "28/28 [==============================] - 3s 98ms/step - loss: 22.6702 - mae: 23.1646\n",
            "Epoch 39/100\n",
            "28/28 [==============================] - 3s 97ms/step - loss: 22.6388 - mae: 23.1330\n",
            "Epoch 40/100\n",
            "28/28 [==============================] - 3s 97ms/step - loss: 22.6291 - mae: 23.1235\n",
            "Epoch 41/100\n",
            "28/28 [==============================] - 3s 99ms/step - loss: 22.5809 - mae: 23.0751\n",
            "Epoch 42/100\n",
            "28/28 [==============================] - 3s 100ms/step - loss: 22.5408 - mae: 23.0352\n",
            "Epoch 43/100\n",
            "28/28 [==============================] - 3s 98ms/step - loss: 22.5331 - mae: 23.0273\n",
            "Epoch 44/100\n",
            "28/28 [==============================] - 3s 99ms/step - loss: 22.6105 - mae: 23.1049\n",
            "Epoch 45/100\n",
            "28/28 [==============================] - 3s 100ms/step - loss: 22.5083 - mae: 23.0023\n",
            "Epoch 46/100\n",
            "28/28 [==============================] - 3s 99ms/step - loss: 22.6123 - mae: 23.1064\n",
            "Epoch 47/100\n",
            "28/28 [==============================] - 3s 100ms/step - loss: 22.6326 - mae: 23.1268\n",
            "Epoch 48/100\n",
            "28/28 [==============================] - 3s 98ms/step - loss: 22.5397 - mae: 23.0337\n",
            "Epoch 49/100\n",
            "28/28 [==============================] - 3s 98ms/step - loss: 22.4618 - mae: 22.9560\n",
            "Epoch 50/100\n",
            "28/28 [==============================] - 3s 97ms/step - loss: 22.4275 - mae: 22.9217\n",
            "Epoch 51/100\n",
            "28/28 [==============================] - 3s 100ms/step - loss: 22.4637 - mae: 22.9577\n",
            "Epoch 52/100\n",
            "28/28 [==============================] - 3s 99ms/step - loss: 22.4567 - mae: 22.9507\n",
            "Epoch 53/100\n",
            "28/28 [==============================] - 3s 98ms/step - loss: 22.4204 - mae: 22.9144\n",
            "Epoch 54/100\n",
            "28/28 [==============================] - 3s 98ms/step - loss: 22.4344 - mae: 22.9285\n",
            "Epoch 55/100\n",
            "28/28 [==============================] - 3s 102ms/step - loss: 22.4154 - mae: 22.9095\n",
            "Epoch 56/100\n",
            "28/28 [==============================] - 3s 100ms/step - loss: 22.4571 - mae: 22.9514\n",
            "Epoch 57/100\n",
            "28/28 [==============================] - 3s 109ms/step - loss: 22.4305 - mae: 22.9248\n",
            "Epoch 58/100\n",
            "28/28 [==============================] - 3s 117ms/step - loss: 22.4174 - mae: 22.9116\n",
            "Epoch 59/100\n",
            "28/28 [==============================] - 3s 118ms/step - loss: 22.4398 - mae: 22.9340\n",
            "Epoch 60/100\n",
            "28/28 [==============================] - 3s 104ms/step - loss: 22.4008 - mae: 22.8949\n",
            "Epoch 61/100\n",
            "28/28 [==============================] - 3s 115ms/step - loss: 22.3667 - mae: 22.8607\n",
            "Epoch 62/100\n",
            "28/28 [==============================] - 3s 109ms/step - loss: 22.3575 - mae: 22.8514\n",
            "Epoch 63/100\n",
            "28/28 [==============================] - 3s 115ms/step - loss: 22.3709 - mae: 22.8650\n",
            "Epoch 64/100\n",
            "28/28 [==============================] - 3s 99ms/step - loss: 22.3691 - mae: 22.8634\n",
            "Epoch 65/100\n",
            "28/28 [==============================] - 3s 121ms/step - loss: 22.3756 - mae: 22.8699\n",
            "Epoch 66/100\n",
            "28/28 [==============================] - 3s 112ms/step - loss: 22.3604 - mae: 22.8544\n",
            "Epoch 67/100\n",
            "28/28 [==============================] - 3s 99ms/step - loss: 22.4505 - mae: 22.9448\n",
            "Epoch 68/100\n",
            "28/28 [==============================] - 3s 98ms/step - loss: 22.3966 - mae: 22.8906\n",
            "Epoch 69/100\n",
            "28/28 [==============================] - 3s 101ms/step - loss: 22.4036 - mae: 22.8976\n",
            "Epoch 70/100\n",
            "28/28 [==============================] - 3s 102ms/step - loss: 22.3688 - mae: 22.8628\n",
            "Epoch 71/100\n",
            "28/28 [==============================] - 3s 102ms/step - loss: 22.3507 - mae: 22.8448\n",
            "Epoch 72/100\n",
            "28/28 [==============================] - 3s 100ms/step - loss: 22.3312 - mae: 22.8252\n",
            "Epoch 73/100\n",
            "28/28 [==============================] - 3s 107ms/step - loss: 22.4690 - mae: 22.9632\n",
            "Epoch 74/100\n",
            "28/28 [==============================] - 3s 102ms/step - loss: 22.3372 - mae: 22.8312\n",
            "Epoch 75/100\n",
            "28/28 [==============================] - 3s 102ms/step - loss: 22.3256 - mae: 22.8196\n",
            "Epoch 76/100\n",
            "28/28 [==============================] - 3s 100ms/step - loss: 22.3649 - mae: 22.8589\n",
            "Epoch 77/100\n",
            "28/28 [==============================] - 3s 101ms/step - loss: 22.3835 - mae: 22.8777\n",
            "Epoch 78/100\n",
            "28/28 [==============================] - 3s 98ms/step - loss: 22.3303 - mae: 22.8244\n",
            "Epoch 79/100\n",
            "28/28 [==============================] - 3s 100ms/step - loss: 22.3179 - mae: 22.8119\n",
            "Epoch 80/100\n",
            "28/28 [==============================] - 3s 100ms/step - loss: 22.3237 - mae: 22.8179\n",
            "Epoch 81/100\n",
            "28/28 [==============================] - 3s 98ms/step - loss: 22.3115 - mae: 22.8054\n",
            "Epoch 82/100\n",
            "28/28 [==============================] - 3s 99ms/step - loss: 22.2981 - mae: 22.7920\n",
            "Epoch 83/100\n",
            "28/28 [==============================] - 3s 100ms/step - loss: 22.3069 - mae: 22.8008\n",
            "Epoch 84/100\n",
            "28/28 [==============================] - 3s 98ms/step - loss: 22.3283 - mae: 22.8222\n",
            "Epoch 85/100\n",
            "28/28 [==============================] - 3s 99ms/step - loss: 22.3014 - mae: 22.7954\n",
            "Epoch 86/100\n",
            "28/28 [==============================] - 3s 103ms/step - loss: 22.3007 - mae: 22.7948\n",
            "Epoch 87/100\n",
            "28/28 [==============================] - 3s 100ms/step - loss: 22.3285 - mae: 22.8227\n",
            "Epoch 88/100\n",
            "28/28 [==============================] - 3s 101ms/step - loss: 22.3195 - mae: 22.8135\n",
            "Epoch 89/100\n",
            "28/28 [==============================] - 3s 100ms/step - loss: 22.3070 - mae: 22.8010\n",
            "Epoch 90/100\n",
            "28/28 [==============================] - 3s 102ms/step - loss: 22.5651 - mae: 23.0593\n",
            "Epoch 91/100\n",
            "28/28 [==============================] - 3s 103ms/step - loss: 22.3924 - mae: 22.8865\n",
            "Epoch 92/100\n",
            "28/28 [==============================] - 3s 103ms/step - loss: 22.3841 - mae: 22.8782\n",
            "Epoch 93/100\n",
            "28/28 [==============================] - 3s 107ms/step - loss: 22.3615 - mae: 22.8556\n",
            "Epoch 94/100\n",
            "28/28 [==============================] - 3s 101ms/step - loss: 22.3748 - mae: 22.8688\n",
            "Epoch 95/100\n",
            "28/28 [==============================] - 3s 100ms/step - loss: 22.3868 - mae: 22.8808\n",
            "Epoch 96/100\n",
            "28/28 [==============================] - 3s 100ms/step - loss: 22.3935 - mae: 22.8876\n",
            "Epoch 97/100\n",
            "28/28 [==============================] - 3s 98ms/step - loss: 22.3378 - mae: 22.8318\n",
            "Epoch 98/100\n",
            "28/28 [==============================] - 3s 99ms/step - loss: 22.3314 - mae: 22.8254\n",
            "Epoch 99/100\n",
            "28/28 [==============================] - 3s 101ms/step - loss: 22.3360 - mae: 22.8301\n",
            "Epoch 100/100\n",
            "28/28 [==============================] - 3s 98ms/step - loss: 22.3321 - mae: 22.8263\n"
          ],
          "name": "stdout"
        }
      ]
    }
  ]
}